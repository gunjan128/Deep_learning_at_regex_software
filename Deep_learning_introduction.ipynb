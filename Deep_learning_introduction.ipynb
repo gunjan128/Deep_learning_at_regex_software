{
  "nbformat": 4,
  "nbformat_minor": 0,
  "metadata": {
    "colab": {
      "provenance": []
    },
    "kernelspec": {
      "name": "python3",
      "display_name": "Python 3"
    },
    "language_info": {
      "name": "python"
    }
  },
  "cells": [
    {
      "cell_type": "code",
      "execution_count": 1,
      "metadata": {
        "id": "2qk-eo-Qw2X9"
      },
      "outputs": [],
      "source": [
        "# Deep Learning ---->\n",
        "\n",
        "# Representative Learning ---->\n",
        "\n",
        "# ML ---> Scikit-Learn  , DL ---> Tensorflow---> Keras"
      ]
    },
    {
      "cell_type": "code",
      "source": [
        "# Architecture of ML ---->\n",
        "# Data ---> Data Pre-processing ---> Select a ml model ---> train a ml model ---> prediction ---> accuracy ."
      ],
      "metadata": {
        "id": "AZW8Ue2JyfnM"
      },
      "execution_count": null,
      "outputs": []
    },
    {
      "cell_type": "code",
      "source": [
        "# Architecture of Deep Learning ---->\n",
        "# Data ----> Data Pre-processing ---->model =  Create an Architecture(Sequential):\n",
        "# input_layer(random_neurons , activation_function , input_shape)\n",
        "# Hidden_layer(random_neurons , activation_function)\n",
        "# Output_layer (based_on_target_neurons , activation_function)\n",
        "\n",
        "# Model.compile(optimizer , loss_function , metrics_score)\n",
        "\n",
        "\n",
        "# model.training ----> Model Prediction ---> Model loss , Accuracy ."
      ],
      "metadata": {
        "id": "iVzLcoqAyXmT"
      },
      "execution_count": 2,
      "outputs": []
    },
    {
      "cell_type": "code",
      "source": [
        "# Brain ----> Neuron system ---> Artifical Neuron system use ---> Model training and Prediction ."
      ],
      "metadata": {
        "id": "JIRRobv9z9xU"
      },
      "execution_count": 4,
      "outputs": []
    },
    {
      "cell_type": "code",
      "source": [
        "# Types of Deep Learning :\n",
        "# (1). ANN(Artificial Neural Networks) ----> use for Tabular or strctured data\n",
        "# (2). CNN(Convolutional Neural Networks) ----> use for Image related data\n",
        "# (3). RNN(Recurrent Neural Networks)  ----> Text related data or Sequential data . + LSTM (Long short tem memory)"
      ],
      "metadata": {
        "id": "as-Tdtmz1AoK"
      },
      "execution_count": 5,
      "outputs": []
    },
    {
      "cell_type": "code",
      "source": [
        "# What is Loss function ----> Difference between Actual_value and Predicted_value .\n",
        "# MSE , Binary_cross_entroy , sparse_categorical_cross_entropy .\n",
        "\n",
        "# Optimizers ----> this process is using for reduce or minimize the loss function .\n",
        "\n",
        "# Activation_function ----> these are the mathematical function that is used for\n",
        "# convert our data into a non-linear format ."
      ],
      "metadata": {
        "id": "vwqFFI_r2Ka8"
      },
      "execution_count": null,
      "outputs": []
    }
  ]
}